{
 "cells": [
  {
   "cell_type": "code",
   "execution_count": 1,
   "id": "8b7e9e63-f66c-4994-bcbe-4e2ea8a239d3",
   "metadata": {},
   "outputs": [],
   "source": [
    "#####Basic Numpy Array "
   ]
  },
  {
   "cell_type": "code",
   "execution_count": 2,
   "id": "556c29f6-b2df-40b3-9c88-6bec135fc97b",
   "metadata": {},
   "outputs": [],
   "source": [
    "###Create an empty numpy array###"
   ]
  },
  {
   "cell_type": "code",
   "execution_count": 8,
   "id": "887de8c7-a542-49f7-9dea-116a11bcacf8",
   "metadata": {},
   "outputs": [],
   "source": [
    "import numpy as np"
   ]
  },
  {
   "cell_type": "code",
   "execution_count": 5,
   "id": "95b894ee-240a-4c0f-b342-eafc225162e0",
   "metadata": {},
   "outputs": [
    {
     "name": "stdout",
     "output_type": "stream",
     "text": [
      "[[0. 0. 0.]\n",
      " [0. 0. 0.]\n",
      " [0. 0. 0.]]\n"
     ]
    }
   ],
   "source": [
    "import numpy as np\n",
    "\n",
    "#create empty array\n",
    "empty_np_array = np.empty((3,3))\n",
    "print(empty_np_array)"
   ]
  },
  {
   "cell_type": "code",
   "execution_count": 6,
   "id": "f4161118-cb8c-427e-9fe2-732fc0f357a1",
   "metadata": {},
   "outputs": [
    {
     "name": "stdout",
     "output_type": "stream",
     "text": [
      "[[3 3 3 3 3]\n",
      " [3 3 3 3 3]\n",
      " [3 3 3 3 3]\n",
      " [3 3 3 3 3]\n",
      " [3 3 3 3 3]]\n"
     ]
    }
   ],
   "source": [
    "###create full array\n",
    "full_array = np.full((5,5),3)\n",
    "print(full_array)"
   ]
  },
  {
   "cell_type": "code",
   "execution_count": 13,
   "id": "a5eaedfa-8f7b-4cdc-baf2-5cd064e69f1d",
   "metadata": {},
   "outputs": [
    {
     "name": "stdout",
     "output_type": "stream",
     "text": [
      "[1. 1. 1.]\n",
      "[[1. 1. 1. 1.]\n",
      " [1. 1. 1. 1.]\n",
      " [1. 1. 1. 1.]]\n",
      "[1 1 1 1 1 1]\n"
     ]
    }
   ],
   "source": [
    "###create numpy array with all ones\n",
    "array = np.ones(3)\n",
    "print(array)\n",
    "\n",
    "###\n",
    "array_with_shape = np.ones((3,4))\n",
    "print(array_with_shape)\n",
    "\n",
    "\n",
    "###array of ones with specific data type\n",
    "array_ones = np.ones(6, dtype=int)\n",
    "print(array_ones)"
   ]
  },
  {
   "cell_type": "code",
   "execution_count": 16,
   "id": "ecf707b8-e82e-4742-9f3e-b33591cdf403",
   "metadata": {},
   "outputs": [
    {
     "name": "stdout",
     "output_type": "stream",
     "text": [
      "[[[1. 1. 1. 1.]\n",
      "  [1. 1. 1. 1.]\n",
      "  [1. 1. 1. 1.]]\n",
      "\n",
      " [[1. 1. 1. 1.]\n",
      "  [1. 1. 1. 1.]\n",
      "  [1. 1. 1. 1.]]\n",
      "\n",
      " [[1. 1. 1. 1.]\n",
      "  [1. 1. 1. 1.]\n",
      "  [1. 1. 1. 1.]]]\n"
     ]
    }
   ],
   "source": [
    "###multi-d array of ones\n",
    "ones_array_3d = np.ones((3, 3, 4))\n",
    "print(ones_array_3d)"
   ]
  },
  {
   "cell_type": "code",
   "execution_count": 19,
   "id": "83be0c8f-3600-429f-845d-e398f5cbf8af",
   "metadata": {},
   "outputs": [
    {
     "name": "stdout",
     "output_type": "stream",
     "text": [
      "True\n",
      "False\n"
     ]
    }
   ],
   "source": [
    "###Check whether a numpy array contains a specific row\n",
    "\n",
    "arr = np.arange(1, 21).reshape(4, 5)\n",
    "\n",
    "print([1,2,3,4,5] in arr.tolist())\n",
    "print([21,22,23,24,25] in arr.tolist())"
   ]
  },
  {
   "cell_type": "code",
   "execution_count": 3,
   "id": "ac0554c4-debb-43de-946d-bd6e61b492aa",
   "metadata": {},
   "outputs": [],
   "source": [
    "import numpy as np"
   ]
  },
  {
   "cell_type": "code",
   "execution_count": 5,
   "id": "8ba4552f-241a-40d9-b059-df18b4dd7dc6",
   "metadata": {},
   "outputs": [
    {
     "name": "stdout",
     "output_type": "stream",
     "text": [
      "1d array  [0]\n",
      "2 d array [[0 1 2 3 4]\n",
      " [5 6 7 8 9]]\n"
     ]
    }
   ],
   "source": [
    "arr01 = np.arange(1)\n",
    "arr02 = np.arange(10).reshape(2,5)\n",
    "print(\"1d array \",arr01)\n",
    "print(\"2 d array\",arr02)"
   ]
  },
  {
   "cell_type": "code",
   "execution_count": 9,
   "id": "53289421-84d4-496b-a067-9d9217bc414d",
   "metadata": {},
   "outputs": [
    {
     "name": "stdout",
     "output_type": "stream",
     "text": [
      "0:0\n",
      "0:1\n",
      "0:2\n",
      "0:3\n",
      "0:4\n",
      "0:5\n",
      "0:6\n",
      "0:7\n",
      "0:8\n",
      "0:9\n"
     ]
    }
   ],
   "source": [
    "for a,b in np.nditer([arr01,arr02]):\n",
    "    print(\"%d:%d\" % (a,b))"
   ]
  },
  {
   "cell_type": "code",
   "execution_count": 13,
   "id": "e66a0143-0852-4247-8345-7e15e63273bf",
   "metadata": {},
   "outputs": [
    {
     "name": "stdout",
     "output_type": "stream",
     "text": [
      "[[ True False]\n",
      " [ True  True]]\n",
      "False\n"
     ]
    }
   ],
   "source": [
    "import numpy as np\n",
    "\n",
    "an_array = np.array([[1, 2], [3, 4]])\n",
    "another_array = np.array([[1, 4], [3, 4]])\n",
    "\n",
    "comparison = an_array == another_array\n",
    "print(comparison)\n",
    "equal_arrays = comparison.all()\n",
    "\n",
    "print(equal_arrays)"
   ]
  },
  {
   "cell_type": "code",
   "execution_count": 17,
   "id": "6292af2d-d982-4587-a895-ee5c9c4dde34",
   "metadata": {},
   "outputs": [
    {
     "name": "stdout",
     "output_type": "stream",
     "text": [
      "[False False  True]\n",
      "[False False  True]\n",
      "[ True  True False]\n",
      "[ True  True False]\n"
     ]
    }
   ],
   "source": [
    "a = [11,22,33]\n",
    "b=[22,33,11]\n",
    "print(np.greater(a, b))\n",
    "print(np.greater_equal(a, b))\n",
    "print(np.less(a,b))\n",
    "print(np.less_equal(a,b))"
   ]
  },
  {
   "cell_type": "code",
   "execution_count": 19,
   "id": "2acaab90-545f-4189-99ec-8407d12114fb",
   "metadata": {},
   "outputs": [
    {
     "name": "stdout",
     "output_type": "stream",
     "text": [
      "Not Equal\n"
     ]
    }
   ],
   "source": [
    "if np.array_equal(a, b):\n",
    "    print(\"Equal\")\n",
    "else:\n",
    "    print(\"Not Equal\")"
   ]
  },
  {
   "cell_type": "code",
   "execution_count": 7,
   "id": "36d846eb-b3c1-4572-8f10-ce867e69c2aa",
   "metadata": {},
   "outputs": [
    {
     "name": "stdout",
     "output_type": "stream",
     "text": [
      "[[0. 0. 0.]\n",
      " [0. 0. 0.]]\n"
     ]
    }
   ],
   "source": [
    "import numpy as np\n",
    "arr123=np.zeros((2,3))\n",
    "##np.zeros(shape) , shape means array size\n",
    "##np.zeros(1) -> for 1 d , np.zeros(3,3) -> for 2 d\n",
    "print(arr123)"
   ]
  },
  {
   "cell_type": "code",
   "execution_count": 9,
   "id": "5df380f5-c609-46eb-b4d1-7e1c628a2276",
   "metadata": {},
   "outputs": [
    {
     "name": "stdout",
     "output_type": "stream",
     "text": [
      "[1.]\n"
     ]
    }
   ],
   "source": [
    "arr12=np.ones(1)\n",
    "print(arr12)"
   ]
  },
  {
   "cell_type": "code",
   "execution_count": 10,
   "id": "cd0e8f82-08f3-4c5b-8b76-4d157fc5cd57",
   "metadata": {},
   "outputs": [
    {
     "name": "stdout",
     "output_type": "stream",
     "text": [
      "[[5 5 5]\n",
      " [5 5 5]]\n"
     ]
    }
   ],
   "source": [
    "## fill array with specific value\n",
    "\n",
    "##full((shape),value)\n",
    "full_func=np.full((2,3),5)\n",
    "print(full_func)"
   ]
  },
  {
   "cell_type": "code",
   "execution_count": null,
   "id": "db99d0ed-5c55-4dd6-90a6-61d1dac846ba",
   "metadata": {},
   "outputs": [],
   "source": []
  }
 ],
 "metadata": {
  "kernelspec": {
   "display_name": "Python 3 (ipykernel)",
   "language": "python",
   "name": "python3"
  },
  "language_info": {
   "codemirror_mode": {
    "name": "ipython",
    "version": 3
   },
   "file_extension": ".py",
   "mimetype": "text/x-python",
   "name": "python",
   "nbconvert_exporter": "python",
   "pygments_lexer": "ipython3",
   "version": "3.13.7"
  }
 },
 "nbformat": 4,
 "nbformat_minor": 5
}
