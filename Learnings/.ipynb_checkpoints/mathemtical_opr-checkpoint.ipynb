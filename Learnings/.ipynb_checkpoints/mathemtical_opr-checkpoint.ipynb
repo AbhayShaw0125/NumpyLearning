{
 "cells": [
  {
   "cell_type": "markdown",
   "id": "bbc354cb-9982-404b-b1f2-344f207c7bc0",
   "metadata": {},
   "source": [
    "## Mathematical Opr in Numpy "
   ]
  },
  {
   "cell_type": "code",
   "execution_count": 3,
   "id": "cc76a41d-9a26-4eb8-829e-0e31e8aebc01",
   "metadata": {},
   "outputs": [],
   "source": [
    "import numpy as np"
   ]
  },
  {
   "cell_type": "code",
   "execution_count": 5,
   "id": "029c7ba5-1480-47c9-ac03-1368e6693bfb",
   "metadata": {},
   "outputs": [],
   "source": [
    "create_array = np.arange(0,10).reshape(2,5)"
   ]
  },
  {
   "cell_type": "code",
   "execution_count": 6,
   "id": "bd84ebab-cadc-405a-9a71-607ce8414879",
   "metadata": {},
   "outputs": [
    {
     "name": "stdout",
     "output_type": "stream",
     "text": [
      "[[ 5  6  7  8  9]\n",
      " [10 11 12 13 14]]\n",
      "[[-5 -4 -3 -2 -1]\n",
      " [ 0  1  2  3  4]]\n",
      "[[ 0  5 10 15 20]\n",
      " [25 30 35 40 45]]\n",
      "[[0 0 0 0 0]\n",
      " [1 1 1 1 1]]\n"
     ]
    }
   ],
   "source": [
    "print(create_array+5)\n",
    "print(create_array-5)\n",
    "print(create_array*5)\n",
    "print(create_array//5)"
   ]
  },
  {
   "cell_type": "markdown",
   "id": "400feccf-9ba3-4917-b7e0-188bf035d42c",
   "metadata": {},
   "source": [
    "## Aggregation Function\n",
    "\n",
    "| Function| What it does |\n",
    "|-------|-------------  |\n",
    "| np.sum(arr)  |adds all the elements         |\n",
    "| np.mean(arr) | mean of all the elements     |\n",
    "| np.min(arr)   | gives minimum element       |\n",
    "| np.max(arr)   | gives maximum element       |\n",
    "| np.var(arr)   | gives variants              |\n",
    "| np.std(arr)   | gives standard deviation    |"
   ]
  }
 ],
 "metadata": {
  "kernelspec": {
   "display_name": "Python 3 (ipykernel)",
   "language": "python",
   "name": "python3"
  },
  "language_info": {
   "codemirror_mode": {
    "name": "ipython",
    "version": 3
   },
   "file_extension": ".py",
   "mimetype": "text/x-python",
   "name": "python",
   "nbconvert_exporter": "python",
   "pygments_lexer": "ipython3",
   "version": "3.13.7"
  }
 },
 "nbformat": 4,
 "nbformat_minor": 5
}
