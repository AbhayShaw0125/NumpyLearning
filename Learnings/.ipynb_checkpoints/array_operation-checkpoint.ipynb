{
 "cells": [
  {
   "cell_type": "markdown",
   "id": "7a2a2cfa-e519-4df4-8943-1b58192c2322",
   "metadata": {},
   "source": [
    "Array opr\n",
    "\n",
    "- Arrays have fixed size so you have to create a new array to insert element"
   ]
  },
  {
   "cell_type": "markdown",
   "id": "4f43040d-1f58-411e-89a3-d3a80b7f6c42",
   "metadata": {},
   "source": [
    "- np.insert(array,index,value,axis(by default none->flattened arr)) -> to add element, returns a new array\n",
    "axis 0 ->row-wise\n",
    "axis 1->column-wise"
   ]
  },
  {
   "cell_type": "code",
   "execution_count": 1,
   "id": "9fd0e315-d1a6-42dc-8725-5c29f903293f",
   "metadata": {},
   "outputs": [],
   "source": [
    "import numpy as np"
   ]
  },
  {
   "cell_type": "code",
   "execution_count": 10,
   "id": "ab2324e4-9561-4a42-b3e7-e64428c4961e",
   "metadata": {},
   "outputs": [],
   "source": [
    "arr=np.arange(1,10)\n",
    "arr2d=np.arange(0,10).reshape(2,5)"
   ]
  },
  {
   "cell_type": "code",
   "execution_count": 8,
   "id": "dd0c8a15-25f1-4d26-8abb-9bf47d7abec1",
   "metadata": {},
   "outputs": [
    {
     "name": "stdout",
     "output_type": "stream",
     "text": [
      "[ 1  2  3  4  5  6  7  8  9 12]\n"
     ]
    }
   ],
   "source": [
    "new_arr=np.insert(arr,9,12)\n",
    "print(new_arr)"
   ]
  },
  {
   "cell_type": "markdown",
   "id": "1b74841f-9f91-4daf-bfe8-58d8d78572dd",
   "metadata": {},
   "source": [
    "#### Insertion in a 2D array"
   ]
  },
  {
   "cell_type": "code",
   "execution_count": 12,
   "id": "439fd534-72a8-41b8-b7e4-7555d5991710",
   "metadata": {},
   "outputs": [
    {
     "name": "stdout",
     "output_type": "stream",
     "text": [
      "[[0 1 2 3 4]\n",
      " [5 6 7 8 9]]\n",
      "[[ 0  1  2  3  4]\n",
      " [ 5  6 11 13 19]\n",
      " [ 5  6  7  8  9]]\n"
     ]
    }
   ],
   "source": [
    "new_arr2d=np.insert(arr2d,1,[5,6,11,13,19],axis=0)\n",
    "print(arr2d)\n",
    "print(new_arr2d)\n",
    "\n",
    "### IT WILL THROW ERROR IF ELEMENT PASSED TO INSERT IS NOT EQUAL TO NOW OF ELEMENTS IN EACH ROW"
   ]
  },
  {
   "cell_type": "markdown",
   "id": "7271f082-1ce3-4800-9150-b59b67e04852",
   "metadata": {},
   "source": [
    "np.append() -> adds element to new array, original remains unchanged"
   ]
  },
  {
   "cell_type": "code",
   "execution_count": 18,
   "id": "8b23de7b-7a0b-426c-98b1-0e33328d500d",
   "metadata": {},
   "outputs": [
    {
     "name": "stdout",
     "output_type": "stream",
     "text": [
      "[ 0  1  2  3  4  5  6  7  8  9 11 33 34 57 69]\n"
     ]
    }
   ],
   "source": [
    "new_ar=np.append(arr2d,[11,33,34,57,69])\n",
    "print(new_ar)"
   ]
  },
  {
   "cell_type": "code",
   "execution_count": 24,
   "id": "2b7376f9-3c08-45c3-80d5-ce322d082532",
   "metadata": {},
   "outputs": [
    {
     "name": "stdout",
     "output_type": "stream",
     "text": [
      "[ 1  2  3  4  5  6  7  8  9 10 11]\n"
     ]
    }
   ],
   "source": [
    "## concatenate two array\n",
    "one=np.array([1,2,3,4,5])\n",
    "two=np.array([6,7,8,9,10,11])\n",
    "new_ary=np.concatenate((one,two))\n",
    "print(new_ary)\n",
    "# axis 0 =vertical stacking\n",
    "# axis 1 =horizontal stacking"
   ]
  },
  {
   "cell_type": "markdown",
   "id": "edbe7808-12c7-4a6c-986a-cfb5e7a290f5",
   "metadata": {},
   "source": [
    "###### Removing element in an array\n",
    "np.delete(index) -> remove element at specific index and return new array"
   ]
  },
  {
   "cell_type": "code",
   "execution_count": 27,
   "id": "6aaa7c5b-6819-4d2e-8111-63c11374be38",
   "metadata": {},
   "outputs": [
    {
     "name": "stdout",
     "output_type": "stream",
     "text": [
      "[ 1  2  3  4  6  7  8  9 10 11]\n"
     ]
    }
   ],
   "source": [
    "array_with_del=np.delete(new_ary,4)\n",
    "print(array_with_del)"
   ]
  }
 ],
 "metadata": {
  "kernelspec": {
   "display_name": "Python 3 (ipykernel)",
   "language": "python",
   "name": "python3"
  },
  "language_info": {
   "codemirror_mode": {
    "name": "ipython",
    "version": 3
   },
   "file_extension": ".py",
   "mimetype": "text/x-python",
   "name": "python",
   "nbconvert_exporter": "python",
   "pygments_lexer": "ipython3",
   "version": "3.13.7"
  }
 },
 "nbformat": 4,
 "nbformat_minor": 5
}
