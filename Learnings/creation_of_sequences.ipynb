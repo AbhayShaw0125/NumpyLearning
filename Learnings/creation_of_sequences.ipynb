{
 "cells": [
  {
   "cell_type": "code",
   "execution_count": 1,
   "id": "7d29beba-3304-4ea9-87d2-28486c2fa027",
   "metadata": {},
   "outputs": [],
   "source": [
    "import numpy as np"
   ]
  },
  {
   "cell_type": "code",
   "execution_count": 6,
   "id": "50d3daeb-1da1-4171-8ecf-9bd424375da7",
   "metadata": {},
   "outputs": [
    {
     "name": "stdout",
     "output_type": "stream",
     "text": [
      "[ 0  1  2  3  4  5  6  7  8  9 10]\n",
      "[1 3 5 7 9]\n"
     ]
    }
   ],
   "source": [
    "## creating sequence of numbers\n",
    "\n",
    "### arange(start,stop,step)\n",
    "\n",
    "seq1=np.arange(0,11)\n",
    "print(seq1)\n",
    "\n",
    "seq2=np.arange(1,11,2)\n",
    "print(seq2)"
   ]
  },
  {
   "cell_type": "code",
   "execution_count": null,
   "id": "136e9c66-64f0-42b9-9cf2-4977dd1050c0",
   "metadata": {},
   "outputs": [],
   "source": [
    "### creating identity matrices\n",
    "\n",
    "## identity matrix -> sq matrix with ones on diagonal and 0's elsewhere\n",
    "\n",
    "###eye(size)\n",
    "identity_matrix=np.eye(5)\n",
    "print"
   ]
  }
 ],
 "metadata": {
  "kernelspec": {
   "display_name": "Python 3 (ipykernel)",
   "language": "python",
   "name": "python3"
  },
  "language_info": {
   "codemirror_mode": {
    "name": "ipython",
    "version": 3
   },
   "file_extension": ".py",
   "mimetype": "text/x-python",
   "name": "python",
   "nbconvert_exporter": "python",
   "pygments_lexer": "ipython3",
   "version": "3.13.7"
  }
 },
 "nbformat": 4,
 "nbformat_minor": 5
}
