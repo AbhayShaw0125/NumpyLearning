{
 "cells": [
  {
   "cell_type": "markdown",
   "id": "10a9c3f3-b769-4452-a382-9f26e08f2581",
   "metadata": {},
   "source": [
    "IMPORT NUMPY PACKAGE UNDER THE NAME NP"
   ]
  },
  {
   "cell_type": "code",
   "execution_count": 2,
   "id": "d233d7f4-b842-4a08-8d1f-554aeaa6414e",
   "metadata": {},
   "outputs": [],
   "source": [
    "import numpy as np;"
   ]
  },
  {
   "cell_type": "markdown",
   "id": "c0f912ff-c5b4-42e2-89d9-b932eec135a2",
   "metadata": {},
   "source": [
    "DISPLAY NUMPY VERSION"
   ]
  },
  {
   "cell_type": "code",
   "execution_count": 2,
   "id": "4999bde3-1596-4547-8ded-137e66f2c902",
   "metadata": {},
   "outputs": [
    {
     "name": "stdout",
     "output_type": "stream",
     "text": [
      "2.3.2\n"
     ]
    }
   ],
   "source": [
    "print(np.__version__)"
   ]
  },
  {
   "cell_type": "markdown",
   "id": "fbe18327-61df-406e-80b7-ef69844b4ea1",
   "metadata": {},
   "source": [
    "TO SHOW CONFIG"
   ]
  },
  {
   "cell_type": "code",
   "execution_count": 4,
   "id": "b6b736e9-0500-47a7-ae99-1191f3522eee",
   "metadata": {},
   "outputs": [
    {
     "name": "stdout",
     "output_type": "stream",
     "text": [
      "Build Dependencies:\n",
      "  blas:\n",
      "    detection method: pkgconfig\n",
      "    found: true\n",
      "    include directory: C:/Users/runneradmin/AppData/Local/Temp/cibw-run-tmvlc1e1/cp313-win_amd64/build/venv/Lib/site-packages/scipy_openblas64/include\n",
      "    lib directory: C:/Users/runneradmin/AppData/Local/Temp/cibw-run-tmvlc1e1/cp313-win_amd64/build/venv/Lib/site-packages/scipy_openblas64/lib\n",
      "    name: scipy-openblas\n",
      "    openblas configuration: OpenBLAS 0.3.30  USE64BITINT DYNAMIC_ARCH NO_AFFINITY\n",
      "      Haswell MAX_THREADS=24\n",
      "    pc file directory: D:/a/numpy/numpy/.openblas\n",
      "    version: 0.3.30\n",
      "  lapack:\n",
      "    detection method: pkgconfig\n",
      "    found: true\n",
      "    include directory: C:/Users/runneradmin/AppData/Local/Temp/cibw-run-tmvlc1e1/cp313-win_amd64/build/venv/Lib/site-packages/scipy_openblas64/include\n",
      "    lib directory: C:/Users/runneradmin/AppData/Local/Temp/cibw-run-tmvlc1e1/cp313-win_amd64/build/venv/Lib/site-packages/scipy_openblas64/lib\n",
      "    name: scipy-openblas\n",
      "    openblas configuration: OpenBLAS 0.3.30  USE64BITINT DYNAMIC_ARCH NO_AFFINITY\n",
      "      Haswell MAX_THREADS=24\n",
      "    pc file directory: D:/a/numpy/numpy/.openblas\n",
      "    version: 0.3.30\n",
      "Compilers:\n",
      "  c:\n",
      "    commands: cl\n",
      "    linker: link\n",
      "    name: msvc\n",
      "    version: 19.44.35213\n",
      "  c++:\n",
      "    commands: cl\n",
      "    linker: link\n",
      "    name: msvc\n",
      "    version: 19.44.35213\n",
      "  cython:\n",
      "    commands: cython\n",
      "    linker: cython\n",
      "    name: cython\n",
      "    version: 3.1.2\n",
      "Machine Information:\n",
      "  build:\n",
      "    cpu: x86_64\n",
      "    endian: little\n",
      "    family: x86_64\n",
      "    system: windows\n",
      "  host:\n",
      "    cpu: x86_64\n",
      "    endian: little\n",
      "    family: x86_64\n",
      "    system: windows\n",
      "Python Information:\n",
      "  path: C:\\Users\\runneradmin\\AppData\\Local\\Temp\\build-env-75zf3yo7\\Scripts\\python.exe\n",
      "  version: '3.13'\n",
      "SIMD Extensions:\n",
      "  baseline:\n",
      "  - SSE\n",
      "  - SSE2\n",
      "  - SSE3\n",
      "  found:\n",
      "  - SSSE3\n",
      "  - SSE41\n",
      "  - POPCNT\n",
      "  - SSE42\n",
      "  - AVX\n",
      "  - F16C\n",
      "  - FMA3\n",
      "  - AVX2\n",
      "  not found:\n",
      "  - AVX512F\n",
      "  - AVX512CD\n",
      "  - AVX512_SKX\n",
      "  - AVX512_CLX\n",
      "  - AVX512_CNL\n",
      "  - AVX512_ICL\n",
      "\n"
     ]
    }
   ],
   "source": [
    "np.show_config()"
   ]
  },
  {
   "cell_type": "raw",
   "id": "bddd7c16-eb2c-46ba-9342-2cc9a9c0d1e2",
   "metadata": {},
   "source": [
    "CREATE NULL VECTOR OF SIZE 10"
   ]
  },
  {
   "cell_type": "code",
   "execution_count": 6,
   "id": "318c8be5-5b4d-40f4-9277-5d97d4927c08",
   "metadata": {},
   "outputs": [
    {
     "data": {
      "text/plain": [
       "array([0., 0., 0., 0., 0., 0., 0., 0., 0., 0.])"
      ]
     },
     "execution_count": 6,
     "metadata": {},
     "output_type": "execute_result"
    }
   ],
   "source": [
    "# np.empty(10)\n",
    "np.zeros(10)"
   ]
  },
  {
   "cell_type": "markdown",
   "id": "52006e15-92aa-4c0f-8c70-ad4e5b036115",
   "metadata": {},
   "source": [
    "Create a null vector of size 10 with 5th value as 1"
   ]
  },
  {
   "cell_type": "code",
   "execution_count": 12,
   "id": "df70282c-1777-43ba-a02a-94023449decd",
   "metadata": {},
   "outputs": [
    {
     "name": "stdout",
     "output_type": "stream",
     "text": [
      "[0. 0. 0. 0. 1. 0. 0. 0. 0. 0.]\n"
     ]
    }
   ],
   "source": [
    "new_array=np.zeros(10)\n",
    "new_array[4]=1\n",
    "print(new_array)"
   ]
  },
  {
   "cell_type": "markdown",
   "id": "2d8c9573-10f4-4289-92b9-4847fe70b11d",
   "metadata": {},
   "source": [
    "Create a vector with value from range 10 to 49"
   ]
  },
  {
   "cell_type": "code",
   "execution_count": 13,
   "id": "2bd3ba50-e065-45b3-a466-23fcf61ee340",
   "metadata": {},
   "outputs": [
    {
     "name": "stdout",
     "output_type": "stream",
     "text": [
      "[10 11 12 13 14 15 16 17 18 19 20 21 22 23 24 25 26 27 28 29 30 31 32 33\n",
      " 34 35 36 37 38 39 40 41 42 43 44 45 46 47 48 49]\n"
     ]
    }
   ],
   "source": [
    "arr1=np.arange(10,50)\n",
    "print(arr1)"
   ]
  },
  {
   "cell_type": "markdown",
   "id": "22088853-a249-4da4-806a-b0e107c29ec3",
   "metadata": {},
   "source": [
    "Create a vector list in reverse order "
   ]
  },
  {
   "cell_type": "code",
   "execution_count": 17,
   "id": "45159e66-a879-4a25-b53a-163141d0cc5c",
   "metadata": {},
   "outputs": [
    {
     "name": "stdout",
     "output_type": "stream",
     "text": [
      "[49 48 47 46 45 44 43 42 41 40 39 38 37 36 35 34 33 32 31 30 29 28 27 26\n",
      " 25 24 23 22 21 20 19 18 17 16 15 14 13 12 11 10]\n"
     ]
    }
   ],
   "source": [
    "print(arr1[::-1])"
   ]
  },
  {
   "cell_type": "code",
   "execution_count": 19,
   "id": "8b827ff5-645e-4964-aecc-7b69b21ef0de",
   "metadata": {},
   "outputs": [
    {
     "name": "stdout",
     "output_type": "stream",
     "text": [
      "[[0 1 2]\n",
      " [3 4 5]\n",
      " [6 7 8]]\n"
     ]
    }
   ],
   "source": [
    "three_three=np.arange(0,9).reshape(3,3)\n",
    "print(three_three)"
   ]
  },
  {
   "cell_type": "markdown",
   "id": "068a5d8d-8199-42d0-9f86-9fc6e7a7ea7b",
   "metadata": {},
   "source": [
    "Find indices of non zero element in [1,2,0,0,4,0]"
   ]
  },
  {
   "cell_type": "code",
   "execution_count": 24,
   "id": "9bbffaa7-12d2-4e63-8009-ea79d0eb56af",
   "metadata": {},
   "outputs": [
    {
     "name": "stdout",
     "output_type": "stream",
     "text": [
      "[0 1 4]\n"
     ]
    }
   ],
   "source": [
    "lst=[1,2,0,0,4,0]\n",
    "arr=np.array(lst)\n",
    "indices=np.where(arr!=0)\n",
    "print(indices[0])"
   ]
  },
  {
   "cell_type": "markdown",
   "id": "eee97c0a-7e77-4238-83fa-fffadcbebb67",
   "metadata": {},
   "source": [
    "Create a 3x3 identity matrix"
   ]
  },
  {
   "cell_type": "code",
   "execution_count": 5,
   "id": "7ba75c7b-892b-489a-8641-4ef973ba8f3e",
   "metadata": {},
   "outputs": [
    {
     "name": "stdout",
     "output_type": "stream",
     "text": [
      "[[1. 0. 0.]\n",
      " [0. 1. 0.]\n",
      " [0. 0. 1.]]\n"
     ]
    }
   ],
   "source": [
    "print(np.eye(3))"
   ]
  },
  {
   "cell_type": "markdown",
   "id": "48a3bc72-f18b-4724-8a23-4490230f2158",
   "metadata": {},
   "source": [
    "Create a 3x3x3 matrix with random values"
   ]
  },
  {
   "cell_type": "code",
   "execution_count": 7,
   "id": "41dc615c-64a7-4cc8-84d8-a60d179739fd",
   "metadata": {},
   "outputs": [
    {
     "name": "stdout",
     "output_type": "stream",
     "text": [
      "[[[0.15814371 0.34144821 0.29373222]\n",
      "  [0.79328235 0.09124735 0.60958875]\n",
      "  [0.72898154 0.68343667 0.51522152]]\n",
      "\n",
      " [[0.19662858 0.31239049 0.09284011]\n",
      "  [0.53060152 0.38473483 0.30184396]\n",
      "  [0.81375627 0.62693417 0.53683428]]\n",
      "\n",
      " [[0.79485225 0.55158614 0.36968761]\n",
      "  [0.54526913 0.50174275 0.74953379]\n",
      "  [0.25709156 0.2159669  0.17253633]]]\n"
     ]
    }
   ],
   "source": [
    "print(np.random.random((3,3,3)))"
   ]
  },
  {
   "cell_type": "markdown",
   "id": "87b05354-b667-4474-91f2-caad3262ecba",
   "metadata": {},
   "source": [
    "Create a 10 x 10 array with random value and find max and min"
   ]
  },
  {
   "cell_type": "code",
   "execution_count": 13,
   "id": "165d2245-fa9d-444d-9a4d-0877e4fc3a37",
   "metadata": {},
   "outputs": [
    {
     "name": "stdout",
     "output_type": "stream",
     "text": [
      "49\n",
      "1\n"
     ]
    }
   ],
   "source": [
    "maxii=np.random.randint(1,51,(10,10)).max()\n",
    "minii=np.random.randint(1,51,(10,10)).min()\n",
    "print(maxii)\n",
    "print(minii)"
   ]
  },
  {
   "cell_type": "markdown",
   "id": "4434fc8d-b599-460e-b1e7-17c406fd215f",
   "metadata": {},
   "source": [
    "Create a random vector of size 30 and find mean"
   ]
  },
  {
   "cell_type": "code",
   "execution_count": 14,
   "id": "92802dc9-c87f-4a7f-b1de-0b0de349494a",
   "metadata": {},
   "outputs": [
    {
     "name": "stdout",
     "output_type": "stream",
     "text": [
      "24.5\n"
     ]
    }
   ],
   "source": [
    "print(np.random.randint(1,51,(30)).mean())"
   ]
  },
  {
   "cell_type": "markdown",
   "id": "03d89042-5977-42c0-babc-d3fccc9ed9d1",
   "metadata": {},
   "source": [
    "Create a 2d array with 1 on the border and 0 inside"
   ]
  },
  {
   "cell_type": "code",
   "execution_count": 17,
   "id": "1ad34c7b-1358-4e01-bdf5-a7e86b50b390",
   "metadata": {},
   "outputs": [
    {
     "data": {
      "text/plain": [
       "array([[1., 1., 1., 1., 1., 1., 1., 1., 1., 1.],\n",
       "       [1., 0., 0., 0., 0., 0., 0., 0., 0., 1.],\n",
       "       [1., 0., 0., 0., 0., 0., 0., 0., 0., 1.],\n",
       "       [1., 0., 0., 0., 0., 0., 0., 0., 0., 1.],\n",
       "       [1., 0., 0., 0., 0., 0., 0., 0., 0., 1.],\n",
       "       [1., 0., 0., 0., 0., 0., 0., 0., 0., 1.],\n",
       "       [1., 0., 0., 0., 0., 0., 0., 0., 0., 1.],\n",
       "       [1., 0., 0., 0., 0., 0., 0., 0., 0., 1.],\n",
       "       [1., 0., 0., 0., 0., 0., 0., 0., 0., 1.],\n",
       "       [1., 1., 1., 1., 1., 1., 1., 1., 1., 1.]])"
      ]
     },
     "execution_count": 17,
     "metadata": {},
     "output_type": "execute_result"
    }
   ],
   "source": [
    "z1=np.ones((10,10))\n",
    "z1[1:-1,1:-1]=0\n",
    "z1"
   ]
  }
 ],
 "metadata": {
  "kernelspec": {
   "display_name": "Python 3 (ipykernel)",
   "language": "python",
   "name": "python3"
  },
  "language_info": {
   "codemirror_mode": {
    "name": "ipython",
    "version": 3
   },
   "file_extension": ".py",
   "mimetype": "text/x-python",
   "name": "python",
   "nbconvert_exporter": "python",
   "pygments_lexer": "ipython3",
   "version": "3.13.7"
  }
 },
 "nbformat": 4,
 "nbformat_minor": 5
}
