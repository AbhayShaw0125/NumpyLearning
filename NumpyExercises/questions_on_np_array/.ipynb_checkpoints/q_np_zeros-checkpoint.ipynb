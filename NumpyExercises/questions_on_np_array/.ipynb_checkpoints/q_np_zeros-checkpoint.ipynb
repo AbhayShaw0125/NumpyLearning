{
 "cells": [
  {
   "cell_type": "markdown",
   "id": "f4502b24-d536-4184-ba2f-2f9c9a768b04",
   "metadata": {},
   "source": [
    "## Creating np array using zeros"
   ]
  },
  {
   "cell_type": "code",
   "execution_count": 1,
   "id": "f2682679-82db-4d64-9629-8cfc6bc8d830",
   "metadata": {},
   "outputs": [],
   "source": [
    "import numpy as np"
   ]
  },
  {
   "cell_type": "code",
   "execution_count": 3,
   "id": "35b2ee03-3b59-4dc8-89b0-f948c3ec03f7",
   "metadata": {},
   "outputs": [
    {
     "name": "stdout",
     "output_type": "stream",
     "text": [
      "[0.]\n"
     ]
    }
   ],
   "source": [
    "## 1 d array using all zeros\n",
    "np_1d=np.zeros(1)\n",
    "print(np_1d)"
   ]
  },
  {
   "cell_type": "code",
   "execution_count": 5,
   "id": "3b70c337-e00a-4c85-931c-e591ab1903c6",
   "metadata": {},
   "outputs": [
    {
     "name": "stdout",
     "output_type": "stream",
     "text": [
      "[[0 0 0]\n",
      " [0 0 0]]\n"
     ]
    }
   ],
   "source": [
    "## 2 d array using all zeros\n",
    "np_2d=np.zeros((2,3),dtype=int)\n",
    "print(np_2d)"
   ]
  },
  {
   "cell_type": "markdown",
   "id": "61745e7a-590c-457f-9463-251203aedb67",
   "metadata": {},
   "source": [
    "## Creating np array using ones"
   ]
  },
  {
   "cell_type": "code",
   "execution_count": 6,
   "id": "c143325c-d182-457b-9a09-1b1d8d2c432c",
   "metadata": {},
   "outputs": [
    {
     "name": "stdout",
     "output_type": "stream",
     "text": [
      "[1. 1. 1. 1. 1.]\n"
     ]
    }
   ],
   "source": [
    "np_ones_1d = np.ones(5)\n",
    "print(np_ones_1d)"
   ]
  },
  {
   "cell_type": "code",
   "execution_count": 7,
   "id": "c5d9f141-e00a-4471-9983-f9ff0f40d313",
   "metadata": {},
   "outputs": [
    {
     "name": "stdout",
     "output_type": "stream",
     "text": [
      "[[1 1 1]\n",
      " [1 1 1]\n",
      " [1 1 1]]\n"
     ]
    }
   ],
   "source": [
    "###2d array using ones\n",
    "np_ones_2d= np.ones((3,3),dtype=int)\n",
    "print(np_ones_2d)"
   ]
  }
 ],
 "metadata": {
  "kernelspec": {
   "display_name": "Python 3 (ipykernel)",
   "language": "python",
   "name": "python3"
  },
  "language_info": {
   "codemirror_mode": {
    "name": "ipython",
    "version": 3
   },
   "file_extension": ".py",
   "mimetype": "text/x-python",
   "name": "python",
   "nbconvert_exporter": "python",
   "pygments_lexer": "ipython3",
   "version": "3.13.7"
  }
 },
 "nbformat": 4,
 "nbformat_minor": 5
}
