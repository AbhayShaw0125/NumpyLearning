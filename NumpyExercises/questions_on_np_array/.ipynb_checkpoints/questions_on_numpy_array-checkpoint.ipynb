{
 "cells": [
  {
   "cell_type": "markdown",
   "id": "6ce08b59-12dc-46d8-ac47-419b86809f27",
   "metadata": {},
   "source": [
    "## How to create an Empty and Full Array"
   ]
  },
  {
   "cell_type": "code",
   "execution_count": 1,
   "id": "c81a278a-4e58-41d6-8ae5-e02843879242",
   "metadata": {},
   "outputs": [],
   "source": [
    "import numpy as np"
   ]
  },
  {
   "cell_type": "code",
   "execution_count": 2,
   "id": "7f4612d5-2d31-45ff-90bd-ae9d14f0789f",
   "metadata": {},
   "outputs": [],
   "source": [
    "### creating an empty array\n",
    "##np.empty(shape)"
   ]
  },
  {
   "cell_type": "code",
   "execution_count": 5,
   "id": "7615e7d2-810a-4793-ba60-b4105bc26898",
   "metadata": {},
   "outputs": [
    {
     "name": "stdout",
     "output_type": "stream",
     "text": [
      "[2385839890928             0        131074]\n"
     ]
    }
   ],
   "source": [
    "## 1 d empty array\n",
    "one_d_empty = np.empty(3, dtype=int)\n",
    "print(one_d_empty)"
   ]
  },
  {
   "cell_type": "code",
   "execution_count": 6,
   "id": "60cc8795-1dbd-4897-a6fc-bb6c39874efe",
   "metadata": {},
   "outputs": [
    {
     "name": "stdout",
     "output_type": "stream",
     "text": [
      "[[-1.17771455e-311  8.96277264e-062  1.17876079e-311]\n",
      " [ 1.17876079e-311  5.92878775e-323  7.90505033e-323]]\n"
     ]
    }
   ],
   "source": [
    "## 2 d empty array\n",
    "np_2d_empty = np.empty((2,3))\n",
    "print(np_2d_empty)"
   ]
  },
  {
   "cell_type": "markdown",
   "id": "d4ae6166-5748-4c9e-84bf-61b38dbcd58c",
   "metadata": {},
   "source": [
    "#### Create Full Numpy Array"
   ]
  },
  {
   "cell_type": "code",
   "execution_count": 7,
   "id": "418fa1cb-b188-4f17-ab63-912a617cd0ee",
   "metadata": {},
   "outputs": [
    {
     "name": "stdout",
     "output_type": "stream",
     "text": [
      "[3 3 3 3 3]\n"
     ]
    }
   ],
   "source": [
    "full_one_d_array = np.full((5),3)\n",
    "print(full_one_d_array)"
   ]
  },
  {
   "cell_type": "code",
   "execution_count": 8,
   "id": "d284a0f4-d970-4014-b55b-c1fa7a85d3f5",
   "metadata": {},
   "outputs": [
    {
     "name": "stdout",
     "output_type": "stream",
     "text": [
      "[[10 10 10]\n",
      " [10 10 10]]\n"
     ]
    }
   ],
   "source": [
    "### full numpy array 2d\n",
    "full_2d_array = np.full((2,3),10)\n",
    "print(full_2d_array)"
   ]
  }
 ],
 "metadata": {
  "kernelspec": {
   "display_name": "Python 3 (ipykernel)",
   "language": "python",
   "name": "python3"
  },
  "language_info": {
   "codemirror_mode": {
    "name": "ipython",
    "version": 3
   },
   "file_extension": ".py",
   "mimetype": "text/x-python",
   "name": "python",
   "nbconvert_exporter": "python",
   "pygments_lexer": "ipython3",
   "version": "3.13.7"
  }
 },
 "nbformat": 4,
 "nbformat_minor": 5
}
