{
 "cells": [
  {
   "cell_type": "markdown",
   "id": "e7541c1f-752b-4440-a668-7e3218d72287",
   "metadata": {},
   "source": [
    "## Counting related problems"
   ]
  },
  {
   "cell_type": "markdown",
   "id": "78f4bb9e-95c1-433a-98fb-ac9bb5ed8c05",
   "metadata": {},
   "source": [
    "Syntax  :  numpy.count_nonzero(arr, axis=None)\n",
    "\n",
    "Parameters : \n",
    "arr   :array for which to count non-zeros.\n",
    "axis      :  [int or tuple, optional] Axis or tuple of axes along which to count non-zeros. Default is None, meaning that non-zeros will be counted along a flattened version of arr.\n",
    "\n",
    "Return  : [int or array of int] Number of non-zero values in the array along a given axis. Otherwise, the total number of non-zero values in the array is returned.\n"
   ]
  },
  {
   "cell_type": "code",
   "execution_count": 1,
   "id": "b191eede-a494-47aa-9f14-b408f61dc173",
   "metadata": {},
   "outputs": [],
   "source": [
    "import numpy as np"
   ]
  },
  {
   "cell_type": "code",
   "execution_count": 2,
   "id": "ba371ac0-39cb-4964-bd9d-2de18afd3c86",
   "metadata": {},
   "outputs": [],
   "source": [
    "arr=np.arange(0,10).reshape(2,5)"
   ]
  },
  {
   "cell_type": "code",
   "execution_count": 5,
   "id": "ad8bcf41-2671-49b0-85e4-48d4f3271f22",
   "metadata": {},
   "outputs": [
    {
     "name": "stdout",
     "output_type": "stream",
     "text": [
      "9\n"
     ]
    }
   ],
   "source": [
    "count_non_zeros=np.count_nonzero(arr)\n",
    "print(count_non_zeros)"
   ]
  },
  {
   "cell_type": "markdown",
   "id": "56e01cd2-2f87-4464-b3a3-ef252a22cdc1",
   "metadata": {},
   "source": [
    "Count the elements using size function"
   ]
  },
  {
   "cell_type": "code",
   "execution_count": 6,
   "id": "3cbcb1a5-5804-4ac9-b308-e209af45e237",
   "metadata": {},
   "outputs": [
    {
     "name": "stdout",
     "output_type": "stream",
     "text": [
      "10\n"
     ]
    }
   ],
   "source": [
    "print(np.size(arr))"
   ]
  }
 ],
 "metadata": {
  "kernelspec": {
   "display_name": "Python 3 (ipykernel)",
   "language": "python",
   "name": "python3"
  },
  "language_info": {
   "codemirror_mode": {
    "name": "ipython",
    "version": 3
   },
   "file_extension": ".py",
   "mimetype": "text/x-python",
   "name": "python",
   "nbconvert_exporter": "python",
   "pygments_lexer": "ipython3",
   "version": "3.13.7"
  }
 },
 "nbformat": 4,
 "nbformat_minor": 5
}
