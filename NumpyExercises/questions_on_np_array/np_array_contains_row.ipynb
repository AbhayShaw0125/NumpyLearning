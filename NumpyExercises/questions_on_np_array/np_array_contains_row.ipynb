{
 "cells": [
  {
   "cell_type": "markdown",
   "id": "f2bfe5e5-20f2-435d-a7c8-29ee07896c78",
   "metadata": {},
   "source": [
    "## Check whether a Numpy array contains a specified row"
   ]
  },
  {
   "cell_type": "markdown",
   "id": "7baa731e-92ca-4d36-bff6-0937015fca0e",
   "metadata": {},
   "source": [
    "\n",
    "Syntax: ndarray.tolist()\n",
    "\n",
    "\n",
    "Parameters: none\n",
    "\n",
    "\n",
    "Returns: The possibly nested list of array elements."
   ]
  },
  {
   "cell_type": "code",
   "execution_count": 1,
   "id": "7fec805f-69d8-490e-869e-037fd9a2d489",
   "metadata": {},
   "outputs": [],
   "source": [
    "import numpy as np"
   ]
  },
  {
   "cell_type": "code",
   "execution_count": 4,
   "id": "5528b7f1-5fb3-42ff-b1c4-ad2e217714d5",
   "metadata": {},
   "outputs": [
    {
     "name": "stdout",
     "output_type": "stream",
     "text": [
      "True\n"
     ]
    }
   ],
   "source": [
    "arr = np.array([[1, 2, 3, 4, 5],\n",
    "                   [6, 7, 8, 9, 10],\n",
    "                   [11, 12, 13, 14, 15],\n",
    "                   [16, 17, 18, 19, 20]\n",
    "                   ])\n",
    "\n",
    "print([1,2,3,4,5] in arr.tolist())"
   ]
  }
 ],
 "metadata": {
  "kernelspec": {
   "display_name": "Python 3 (ipykernel)",
   "language": "python",
   "name": "python3"
  },
  "language_info": {
   "codemirror_mode": {
    "name": "ipython",
    "version": 3
   },
   "file_extension": ".py",
   "mimetype": "text/x-python",
   "name": "python",
   "nbconvert_exporter": "python",
   "pygments_lexer": "ipython3",
   "version": "3.13.7"
  }
 },
 "nbformat": 4,
 "nbformat_minor": 5
}
