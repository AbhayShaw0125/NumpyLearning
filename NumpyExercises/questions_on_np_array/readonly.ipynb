{
 "cells": [
  {
   "cell_type": "code",
   "execution_count": 1,
   "id": "ff4c4ff1-a128-434a-a5de-47230fba0286",
   "metadata": {},
   "outputs": [],
   "source": [
    "## Creating array which are readonly"
   ]
  },
  {
   "cell_type": "code",
   "execution_count": 2,
   "id": "70f18b26-9bd9-4baa-ba35-cb589ff137ea",
   "metadata": {},
   "outputs": [],
   "source": [
    "import numpy as np"
   ]
  },
  {
   "cell_type": "code",
   "execution_count": 4,
   "id": "74f0a751-848c-4f0f-8a13-376594a6b3b0",
   "metadata": {},
   "outputs": [
    {
     "name": "stdout",
     "output_type": "stream",
     "text": [
      "Print array before change\n",
      "\n",
      "[1 2 3 4 5 6 7 8 9]\n",
      "Print array after change\n",
      "\n",
      "[1 3 3 4 5 6 7 8 9]\n"
     ]
    },
    {
     "ename": "ValueError",
     "evalue": "assignment destination is read-only",
     "output_type": "error",
     "traceback": [
      "\u001b[31m---------------------------------------------------------------------------\u001b[39m",
      "\u001b[31mValueError\u001b[39m                                Traceback (most recent call last)",
      "\u001b[36mCell\u001b[39m\u001b[36m \u001b[39m\u001b[32mIn[4]\u001b[39m\u001b[32m, line 8\u001b[39m\n\u001b[32m      6\u001b[39m \u001b[38;5;28mprint\u001b[39m(arr)\n\u001b[32m      7\u001b[39m arr.setflags(write=\u001b[38;5;28;01mFalse\u001b[39;00m)\n\u001b[32m----> \u001b[39m\u001b[32m8\u001b[39m \u001b[43marr\u001b[49m\u001b[43m[\u001b[49m\u001b[32;43m3\u001b[39;49m\u001b[43m]\u001b[49m=\u001b[32m0\u001b[39m\n\u001b[32m      9\u001b[39m \u001b[38;5;28mprint\u001b[39m(arr)\n",
      "\u001b[31mValueError\u001b[39m: assignment destination is read-only"
     ]
    }
   ],
   "source": [
    "arr=np.arange(1,10)\n",
    "print(\"Print array before change\\n\")\n",
    "print(arr)\n",
    "arr[1]=3\n",
    "print(\"Print array after change\\n\")\n",
    "print(arr)\n",
    "arr.setflags(write=False)\n",
    "arr[3]=0\n",
    "print(arr)"
   ]
  }
 ],
 "metadata": {
  "kernelspec": {
   "display_name": "Python 3 (ipykernel)",
   "language": "python",
   "name": "python3"
  },
  "language_info": {
   "codemirror_mode": {
    "name": "ipython",
    "version": 3
   },
   "file_extension": ".py",
   "mimetype": "text/x-python",
   "name": "python",
   "nbconvert_exporter": "python",
   "pygments_lexer": "ipython3",
   "version": "3.13.7"
  }
 },
 "nbformat": 4,
 "nbformat_minor": 5
}
