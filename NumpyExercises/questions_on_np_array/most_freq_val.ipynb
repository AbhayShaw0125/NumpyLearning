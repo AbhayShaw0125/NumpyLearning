{
 "cells": [
  {
   "cell_type": "markdown",
   "id": "2c548a63-371c-499c-b00c-8abb59ffc071",
   "metadata": {},
   "source": [
    "Most frequent value in numpy array"
   ]
  },
  {
   "cell_type": "code",
   "execution_count": 1,
   "id": "6defdacd-b50f-47bf-8ec3-88d07f0253b3",
   "metadata": {},
   "outputs": [],
   "source": [
    "import numpy as np"
   ]
  },
  {
   "cell_type": "markdown",
   "id": "5844f5f9-7272-4182-9c26-21c4b888a6a1",
   "metadata": {},
   "source": [
    "- Create a NumPy array.\n",
    "- Apply bincount()  get  count of occurrences of each element in  array.\n",
    "- Then apply argmax() to get the value having a maximum number of occurrences(frequency)."
   ]
  },
  {
   "cell_type": "code",
   "execution_count": 2,
   "id": "416f3b0a-7d15-4d95-819d-90dc68dedf2d",
   "metadata": {},
   "outputs": [],
   "source": [
    "arr=np.arange(1,11)"
   ]
  },
  {
   "cell_type": "code",
   "execution_count": 6,
   "id": "b6df318c-7540-4f27-8704-d065e2a41fd7",
   "metadata": {},
   "outputs": [
    {
     "name": "stdout",
     "output_type": "stream",
     "text": [
      "1\n"
     ]
    }
   ],
   "source": [
    "count_arr=np.bincount(arr).argmax()\n",
    "print(count_arr)"
   ]
  },
  {
   "cell_type": "markdown",
   "id": "15f8a3e0-6f01-4c39-82ad-b2fe0fcf89f1",
   "metadata": {},
   "source": [
    "## Combining 1d and 2d array"
   ]
  },
  {
   "cell_type": "markdown",
   "id": "ab45513b-094d-4c01-82ea-cafb594c2a1d",
   "metadata": {},
   "source": [
    "- numpy has a function called nditer()"
   ]
  },
  {
   "cell_type": "code",
   "execution_count": 13,
   "id": "72dde67c-0d6e-4155-99e1-de9d03ad2782",
   "metadata": {},
   "outputs": [
    {
     "name": "stdout",
     "output_type": "stream",
     "text": [
      "0:0\n",
      "1:1\n",
      "2:2\n",
      "3:3\n",
      "4:4\n",
      "0:5\n",
      "1:6\n",
      "2:7\n",
      "3:8\n",
      "4:9\n"
     ]
    }
   ],
   "source": [
    "one_d=np.arange(5)\n",
    "two_d=np.arange(0,10).reshape(2,5)\n",
    "\n",
    "for a, b in np.nditer([one_d, two_d]):\n",
    "    print(\"%d:%d\" % (a, b),)"
   ]
  }
 ],
 "metadata": {
  "kernelspec": {
   "display_name": "Python 3 (ipykernel)",
   "language": "python",
   "name": "python3"
  },
  "language_info": {
   "codemirror_mode": {
    "name": "ipython",
    "version": 3
   },
   "file_extension": ".py",
   "mimetype": "text/x-python",
   "name": "python",
   "nbconvert_exporter": "python",
   "pygments_lexer": "ipython3",
   "version": "3.13.7"
  }
 },
 "nbformat": 4,
 "nbformat_minor": 5
}
