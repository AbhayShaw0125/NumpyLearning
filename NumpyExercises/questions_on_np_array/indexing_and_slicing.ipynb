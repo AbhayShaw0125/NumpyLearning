{
 "cells": [
  {
   "cell_type": "markdown",
   "id": "94521ad8-9593-46a4-a653-8f124ae92688",
   "metadata": {},
   "source": [
    "### Indexing and Slicing"
   ]
  },
  {
   "cell_type": "code",
   "execution_count": 1,
   "id": "bb6c0842-b6f3-4919-bbc5-b129f3000fb1",
   "metadata": {},
   "outputs": [],
   "source": [
    "import numpy as np"
   ]
  },
  {
   "cell_type": "code",
   "execution_count": 2,
   "id": "86cd15ed-caca-41f7-a9da-01d8361dee4f",
   "metadata": {},
   "outputs": [],
   "source": [
    "arr=np.arange(1,11)"
   ]
  },
  {
   "cell_type": "code",
   "execution_count": 7,
   "id": "b2ee4ff3-7420-40a4-92e6-57ef3032da22",
   "metadata": {},
   "outputs": [
    {
     "name": "stdout",
     "output_type": "stream",
     "text": [
      "2\n",
      "[2 4 6 8]\n"
     ]
    }
   ],
   "source": [
    "print(arr[1])\n",
    "print(arr[1:9:2])"
   ]
  },
  {
   "cell_type": "code",
   "execution_count": 15,
   "id": "d18a00df-dcfc-428f-a4cc-a62832e30fa5",
   "metadata": {},
   "outputs": [
    {
     "name": "stdout",
     "output_type": "stream",
     "text": [
      "[[1 2]\n",
      " [6 7]]\n"
     ]
    }
   ],
   "source": [
    "arr2d=np.arange(0,10).reshape(2,5)\n",
    "print(arr2d[0:,1:3])"
   ]
  },
  {
   "cell_type": "markdown",
   "id": "6169f685-2ddd-4900-ab67-4c001af7a49f",
   "metadata": {},
   "source": [
    "##### Fancy Indexing\n"
   ]
  },
  {
   "cell_type": "markdown",
   "id": "fcc37caa-5673-495a-b071-a2bf6c6451ec",
   "metadata": {},
   "source": [
    "- selecting multiple elements at once\n",
    "- useful in selecting non-sequential values\n",
    "- you have to pass it as a list\n",
    "- it creates a copy of your data does not modify original array"
   ]
  },
  {
   "cell_type": "code",
   "execution_count": 20,
   "id": "a263fc9c-7a52-400e-bf15-484ffd7257a8",
   "metadata": {},
   "outputs": [
    {
     "name": "stdout",
     "output_type": "stream",
     "text": [
      "[1 5 6]\n"
     ]
    }
   ],
   "source": [
    "print(arr[[0,4,5]])"
   ]
  },
  {
   "cell_type": "markdown",
   "id": "d957f0ba-86a2-48b1-b8ac-0114a03e72d3",
   "metadata": {},
   "source": [
    "## Boolean Masking : filtering data based on condition"
   ]
  },
  {
   "cell_type": "code",
   "execution_count": 21,
   "id": "62f8b0fe-53df-448b-bfbe-7c0c8f6c30e6",
   "metadata": {},
   "outputs": [
    {
     "name": "stdout",
     "output_type": "stream",
     "text": [
      "[ 4  5  6  7  8  9 10]\n"
     ]
    }
   ],
   "source": [
    "print(arr[arr>3])"
   ]
  },
  {
   "cell_type": "code",
   "execution_count": 22,
   "id": "49391462-8adb-42f3-8442-af4e0b1a99e4",
   "metadata": {},
   "outputs": [
    {
     "name": "stdout",
     "output_type": "stream",
     "text": [
      "[]\n"
     ]
    }
   ],
   "source": [
    "print(arr[arr>13])"
   ]
  },
  {
   "cell_type": "markdown",
   "id": "177d7472-f40a-4ba9-ba9d-659510133628",
   "metadata": {},
   "source": [
    "##### Flattening"
   ]
  },
  {
   "cell_type": "markdown",
   "id": "387231a6-066b-4c6e-80e9-91a9e5c9bd8e",
   "metadata": {},
   "source": [
    "- ravel() -> returns a view original array is modified\n",
    "- flatten() ->copy of the original array \n",
    "\n",
    "- used when you want to convert multi-d array into 1-d array"
   ]
  },
  {
   "cell_type": "code",
   "execution_count": 24,
   "id": "199794c6-29d0-44fc-8d27-a7a537481399",
   "metadata": {},
   "outputs": [
    {
     "name": "stdout",
     "output_type": "stream",
     "text": [
      "[0 1 2 3 4 5 6 7 8 9]\n"
     ]
    }
   ],
   "source": [
    "arrd=arr2d.ravel()\n",
    "print(arrd)"
   ]
  },
  {
   "cell_type": "code",
   "execution_count": 25,
   "id": "bc1062e6-567e-473b-ba14-e13563d3e298",
   "metadata": {},
   "outputs": [
    {
     "name": "stdout",
     "output_type": "stream",
     "text": [
      "[0 1 2 3 4 5 6 7 8 9]\n"
     ]
    }
   ],
   "source": [
    "arr_d=arr2d.flatten()\n",
    "print(arr_d)"
   ]
  }
 ],
 "metadata": {
  "kernelspec": {
   "display_name": "Python 3 (ipykernel)",
   "language": "python",
   "name": "python3"
  },
  "language_info": {
   "codemirror_mode": {
    "name": "ipython",
    "version": 3
   },
   "file_extension": ".py",
   "mimetype": "text/x-python",
   "name": "python",
   "nbconvert_exporter": "python",
   "pygments_lexer": "ipython3",
   "version": "3.13.7"
  }
 },
 "nbformat": 4,
 "nbformat_minor": 5
}
