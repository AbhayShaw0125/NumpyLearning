{
 "cells": [
  {
   "cell_type": "code",
   "execution_count": null,
   "id": "9b495fd8-cdb6-4c3d-9df8-f628086e461e",
   "metadata": {},
   "outputs": [],
   "source": [
    "## max element in numpy array"
   ]
  },
  {
   "cell_type": "code",
   "execution_count": 1,
   "id": "0f64f5bd-0a2a-4e11-8a32-61b1a88cd037",
   "metadata": {},
   "outputs": [],
   "source": [
    "import numpy as np"
   ]
  },
  {
   "cell_type": "code",
   "execution_count": 2,
   "id": "d5b633ed-2cec-4cd7-a522-7976449c7c43",
   "metadata": {},
   "outputs": [
    {
     "name": "stdout",
     "output_type": "stream",
     "text": [
      "9\n"
     ]
    }
   ],
   "source": [
    "array = np.array([1, 3, 7, 9, 5])\n",
    "print(np.max(array))"
   ]
  }
 ],
 "metadata": {
  "kernelspec": {
   "display_name": "Python 3 (ipykernel)",
   "language": "python",
   "name": "python3"
  },
  "language_info": {
   "codemirror_mode": {
    "name": "ipython",
    "version": 3
   },
   "file_extension": ".py",
   "mimetype": "text/x-python",
   "name": "python",
   "nbconvert_exporter": "python",
   "pygments_lexer": "ipython3",
   "version": "3.13.7"
  }
 },
 "nbformat": 4,
 "nbformat_minor": 5
}
