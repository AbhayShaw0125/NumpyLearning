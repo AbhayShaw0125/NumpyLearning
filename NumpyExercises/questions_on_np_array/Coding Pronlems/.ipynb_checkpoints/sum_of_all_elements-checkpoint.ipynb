{
 "cells": [
  {
   "cell_type": "code",
   "execution_count": 1,
   "id": "47bd7df2-09a6-4189-8880-52213a224530",
   "metadata": {},
   "outputs": [],
   "source": [
    "### Sum of all the elements in numpy arraay"
   ]
  },
  {
   "cell_type": "code",
   "execution_count": 2,
   "id": "2da53268-e03d-4b84-b758-6f05b8b9b68a",
   "metadata": {},
   "outputs": [],
   "source": [
    "import numpy as np"
   ]
  },
  {
   "cell_type": "code",
   "execution_count": 3,
   "id": "915270fd-06ab-428c-ab2f-e0c695de1672",
   "metadata": {},
   "outputs": [
    {
     "name": "stdout",
     "output_type": "stream",
     "text": [
      "15\n"
     ]
    }
   ],
   "source": [
    "array = np.array([1, 2, 3, 4, 5])\n",
    "print(np.sum(array))"
   ]
  }
 ],
 "metadata": {
  "kernelspec": {
   "display_name": "Python 3 (ipykernel)",
   "language": "python",
   "name": "python3"
  },
  "language_info": {
   "codemirror_mode": {
    "name": "ipython",
    "version": 3
   },
   "file_extension": ".py",
   "mimetype": "text/x-python",
   "name": "python",
   "nbconvert_exporter": "python",
   "pygments_lexer": "ipython3",
   "version": "3.13.7"
  }
 },
 "nbformat": 4,
 "nbformat_minor": 5
}
