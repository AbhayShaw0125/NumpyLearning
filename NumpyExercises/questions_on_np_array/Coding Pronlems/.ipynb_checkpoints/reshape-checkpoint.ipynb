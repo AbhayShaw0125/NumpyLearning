{
 "cells": [
  {
   "cell_type": "code",
   "execution_count": 1,
   "id": "cc5728e4-154b-485b-a58b-d314e79adefc",
   "metadata": {},
   "outputs": [],
   "source": [
    "# reshapre numpy array"
   ]
  },
  {
   "cell_type": "code",
   "execution_count": 2,
   "id": "9e62794d-40ae-47e0-af1e-6f19a2489c57",
   "metadata": {},
   "outputs": [],
   "source": [
    "import numpy as np"
   ]
  },
  {
   "cell_type": "code",
   "execution_count": 4,
   "id": "09ab7509-d458-445c-b8f9-311b01730bd0",
   "metadata": {},
   "outputs": [
    {
     "name": "stdout",
     "output_type": "stream",
     "text": [
      "[[1 2 3]\n",
      " [4 5 6]]\n"
     ]
    }
   ],
   "source": [
    "array = np.array([1, 2, 3, 4, 5, 6])\n",
    "print(array.reshape(2,3))"
   ]
  }
 ],
 "metadata": {
  "kernelspec": {
   "display_name": "Python 3 (ipykernel)",
   "language": "python",
   "name": "python3"
  },
  "language_info": {
   "codemirror_mode": {
    "name": "ipython",
    "version": 3
   },
   "file_extension": ".py",
   "mimetype": "text/x-python",
   "name": "python",
   "nbconvert_exporter": "python",
   "pygments_lexer": "ipython3",
   "version": "3.13.7"
  }
 },
 "nbformat": 4,
 "nbformat_minor": 5
}
