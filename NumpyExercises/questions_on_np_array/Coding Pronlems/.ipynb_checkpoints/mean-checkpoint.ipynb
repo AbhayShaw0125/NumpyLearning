{
 "cells": [
  {
   "cell_type": "code",
   "execution_count": 1,
   "id": "456afef3-a8b8-4703-b195-33bdcba3c64e",
   "metadata": {},
   "outputs": [],
   "source": [
    "# mean of numpy array"
   ]
  },
  {
   "cell_type": "code",
   "execution_count": 2,
   "id": "092e494d-56f0-40b8-8b41-38129e4a2872",
   "metadata": {},
   "outputs": [],
   "source": [
    "import numpy as np"
   ]
  },
  {
   "cell_type": "code",
   "execution_count": 4,
   "id": "4208d159-e112-4150-b1f7-36eb5b2c3fe1",
   "metadata": {},
   "outputs": [
    {
     "name": "stdout",
     "output_type": "stream",
     "text": [
      "6\n"
     ]
    }
   ],
   "source": [
    "array = np.array([2, 4, 6, 8, 10])\n",
    "print(np.mean(array,dtype=int))"
   ]
  }
 ],
 "metadata": {
  "kernelspec": {
   "display_name": "Python 3 (ipykernel)",
   "language": "python",
   "name": "python3"
  },
  "language_info": {
   "codemirror_mode": {
    "name": "ipython",
    "version": 3
   },
   "file_extension": ".py",
   "mimetype": "text/x-python",
   "name": "python",
   "nbconvert_exporter": "python",
   "pygments_lexer": "ipython3",
   "version": "3.13.7"
  }
 },
 "nbformat": 4,
 "nbformat_minor": 5
}
