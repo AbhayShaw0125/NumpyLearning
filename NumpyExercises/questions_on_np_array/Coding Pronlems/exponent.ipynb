{
 "cells": [
  {
   "cell_type": "code",
   "execution_count": 1,
   "id": "d8fcfeae-f62d-4ba2-832c-e4d776a430bd",
   "metadata": {},
   "outputs": [],
   "source": [
    "## exponent"
   ]
  },
  {
   "cell_type": "code",
   "execution_count": 2,
   "id": "8a7a03af-dc65-4b16-b71e-88e97c4b2c87",
   "metadata": {},
   "outputs": [],
   "source": [
    "import numpy as np"
   ]
  },
  {
   "cell_type": "code",
   "execution_count": 4,
   "id": "f1e0b1b8-4246-4665-95e6-243a14a18857",
   "metadata": {},
   "outputs": [
    {
     "name": "stdout",
     "output_type": "stream",
     "text": [
      "[ 1  4  9 16]\n"
     ]
    }
   ],
   "source": [
    "array = np.array([1, 2, 3, 4])\n",
    "exponent = 2\n",
    "print(np.power(array,exponent))"
   ]
  }
 ],
 "metadata": {
  "kernelspec": {
   "display_name": "Python 3 (ipykernel)",
   "language": "python",
   "name": "python3"
  },
  "language_info": {
   "codemirror_mode": {
    "name": "ipython",
    "version": 3
   },
   "file_extension": ".py",
   "mimetype": "text/x-python",
   "name": "python",
   "nbconvert_exporter": "python",
   "pygments_lexer": "ipython3",
   "version": "3.13.7"
  }
 },
 "nbformat": 4,
 "nbformat_minor": 5
}
