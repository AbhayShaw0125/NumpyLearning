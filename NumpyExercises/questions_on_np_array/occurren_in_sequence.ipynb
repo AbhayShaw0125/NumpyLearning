{
 "cells": [
  {
   "cell_type": "markdown",
   "id": "6e3237a0-ac0f-4630-8eaf-6d7ed5e67d50",
   "metadata": {},
   "source": [
    "## Find the number of occurrences of a sequence in a NumPy array"
   ]
  },
  {
   "cell_type": "code",
   "execution_count": 1,
   "id": "258e93d5-a61b-40f2-a486-db61b3c1f0c4",
   "metadata": {},
   "outputs": [],
   "source": [
    "import numpy as np"
   ]
  },
  {
   "cell_type": "code",
   "execution_count": 5,
   "id": "ecf22348-735a-4ae0-aa94-06df305ee841",
   "metadata": {},
   "outputs": [
    {
     "name": "stdout",
     "output_type": "stream",
     "text": [
      "4\n"
     ]
    }
   ],
   "source": [
    "arr = np.array([[2, 8, 9, 4], \n",
    "                   [9, 4, 9, 4],\n",
    "                   [4, 5, 9, 7],\n",
    "                   [2, 9, 4, 3]])\n",
    "\n",
    "output=repr(arr).count(\"9, 4\")\n",
    "print(output)"
   ]
  },
  {
   "cell_type": "markdown",
   "id": "4ac70acb-89d7-45fd-bd8a-77909564cc39",
   "metadata": {},
   "source": [
    "Explanation\n",
    "first row [2,8,9,4] \n",
    "contains one [9,4] sequence so output = 1.\n",
    "\n",
    "second row [9,4,9,4] \n",
    "contains two [9,4] sequence so output = 1+2 = 3.\n",
    "\n",
    "third row [4,5,9,7] \n",
    "contains no [9,4] sequence so output = 3+0 = 3.\n",
    "\n",
    "fourth row [2,9,4,3] \n",
    "contains one [9,4] sequence so output = 3+1 = 4.\n"
   ]
  },
  {
   "cell_type": "markdown",
   "id": "193d6aa2-8ffa-4174-9f80-74efe24e91a5",
   "metadata": {},
   "source": [
    "#### repr\n",
    "\n",
    "print(arr)       # → [1, 9, 4, 2, 9, 4]\n",
    "print(repr(arr)) # → '[1, 9, 4, 2, 9, 4]'\n",
    "\n",
    "- print(arr) shows the list nicely (no quotes)\n",
    "- repr(arr) gives you a string version of the list → notice it’s inside quotes '...'."
   ]
  }
 ],
 "metadata": {
  "kernelspec": {
   "display_name": "Python 3 (ipykernel)",
   "language": "python",
   "name": "python3"
  },
  "language_info": {
   "codemirror_mode": {
    "name": "ipython",
    "version": 3
   },
   "file_extension": ".py",
   "mimetype": "text/x-python",
   "name": "python",
   "nbconvert_exporter": "python",
   "pygments_lexer": "ipython3",
   "version": "3.13.7"
  }
 },
 "nbformat": 4,
 "nbformat_minor": 5
}
