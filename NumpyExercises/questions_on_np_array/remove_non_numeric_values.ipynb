{
 "cells": [
  {
   "cell_type": "markdown",
   "id": "41506b25-f581-4e28-ad29-ef620bc281c3",
   "metadata": {},
   "source": [
    "## Remove rows with non numeric values"
   ]
  },
  {
   "cell_type": "markdown",
   "id": "be9a827d-fbf7-4013-b168-5d5fa8c65bd6",
   "metadata": {},
   "source": [
    "Non numeric row can be removed using isnan() function along with bitwise not operator"
   ]
  },
  {
   "cell_type": "markdown",
   "id": "c24ba85c-177f-44ec-bf55-3d51fb809dc4",
   "metadata": {},
   "source": [
    "It only targets NAN values and not non numeric values like string"
   ]
  },
  {
   "cell_type": "code",
   "execution_count": 1,
   "id": "93c6624a-39ee-4a9d-89b0-58e1159d3630",
   "metadata": {},
   "outputs": [],
   "source": [
    "import numpy as np"
   ]
  },
  {
   "cell_type": "code",
   "execution_count": 2,
   "id": "0d9bf586-0c4d-49aa-9dd5-eddd9e8957d3",
   "metadata": {},
   "outputs": [
    {
     "name": "stdout",
     "output_type": "stream",
     "text": [
      "[[10.5 22.5  3.8]]\n"
     ]
    }
   ],
   "source": [
    "n_arr = np.array([[10.5, 22.5, 3.8],\n",
    "                  [41, np.nan, np.nan]])\n",
    "\n",
    "cleaned_arry=n_arr[~np.isnan(n_arr).any(axis=1)]\n",
    "print(cleaned_arry)"
   ]
  },
  {
   "cell_type": "markdown",
   "id": "cc74fd72-224a-4ba8-9150-7875c54b0e8c",
   "metadata": {},
   "source": [
    "## How does isnan work"
   ]
  },
  {
   "cell_type": "markdown",
   "id": "b365abf9-9b32-4d8e-a3dc-dfa2271dfa36",
   "metadata": {},
   "source": [
    "* This removes any row from n_arr that contains a NaN."
   ]
  },
  {
   "cell_type": "markdown",
   "id": "e08abcd1-a46f-4b3c-9012-15e9d4044f08",
   "metadata": {},
   "source": [
    "* np.isnan(n_arr)\n",
    "\n",
    "* Creates a boolean array of the same shape as n_arr.\n",
    "\n",
    "* True where the value is NaN, False otherwise.\n",
    "\n",
    "    * n_arr = [[1, np.nan, 3],\n",
    "     [4, 5, 6],\n",
    "     [7, 8, np.nan]]\n",
    "    * np.isnan(n_arr)\n",
    "    # [[False, True,  False],\n",
    "    #  [False, False, False],\n",
    "    #  [False, False, True ]]"
   ]
  },
  {
   "cell_type": "markdown",
   "id": "ded9919b-60f0-4cd7-90aa-905a339ac0d7",
   "metadata": {},
   "source": [
    ".any(axis=1)\n",
    "\n",
    "axis=1 means \"look across columns in each row\".\n",
    "\n",
    "It checks if any value in that row is True (i.e., NaN).\n",
    "\n",
    "Result: a 1D boolean array, one value per row.\n",
    "\n",
    "```py3\n",
    "np.isnan(n_arr).any(axis=1)\n",
    "# [True, False, True]\n",
    "```"
   ]
  },
  {
   "cell_type": "markdown",
   "id": "7fdc3fe0-2d71-4c5a-b478-4411fd25df08",
   "metadata": {},
   "source": [
    "Meaning:\n",
    "\n",
    "Row 0 has at least one NaN → True\n",
    "\n",
    "Row 1 has no NaN → False\n",
    "\n",
    "Row 2 has at least one NaN → True"
   ]
  }
 ],
 "metadata": {
  "kernelspec": {
   "display_name": "Python 3 (ipykernel)",
   "language": "python",
   "name": "python3"
  },
  "language_info": {
   "codemirror_mode": {
    "name": "ipython",
    "version": 3
   },
   "file_extension": ".py",
   "mimetype": "text/x-python",
   "name": "python",
   "nbconvert_exporter": "python",
   "pygments_lexer": "ipython3",
   "version": "3.13.7"
  }
 },
 "nbformat": 4,
 "nbformat_minor": 5
}
