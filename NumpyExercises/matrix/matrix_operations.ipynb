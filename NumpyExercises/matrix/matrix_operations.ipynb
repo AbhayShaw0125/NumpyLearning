{
 "cells": [
  {
   "cell_type": "markdown",
   "id": "9e38ecac-fb79-4e05-b499-b9d88782aef0",
   "metadata": {},
   "source": [
    "## Matrix Related problems"
   ]
  },
  {
   "cell_type": "code",
   "execution_count": 1,
   "id": "ae1fe4d4-ce71-4fb8-8f2f-48d4ed3df07c",
   "metadata": {},
   "outputs": [],
   "source": [
    "import numpy as np"
   ]
  },
  {
   "cell_type": "code",
   "execution_count": 2,
   "id": "f37b0883-3491-4d2e-b197-764deaf2ed55",
   "metadata": {},
   "outputs": [
    {
     "name": "stdout",
     "output_type": "stream",
     "text": [
      "[[1 2 3]\n",
      " [4 5 6]\n",
      " [7 8 9]]\n"
     ]
    }
   ],
   "source": [
    "gfg=np.matrix('[1,2,3;4,5,6;7,8,9]')\n",
    "print(gfg)"
   ]
  },
  {
   "cell_type": "code",
   "execution_count": 3,
   "id": "82a67720-cb90-469e-a756-befa24c6a9e8",
   "metadata": {},
   "outputs": [
    {
     "name": "stdout",
     "output_type": "stream",
     "text": [
      "9\n"
     ]
    }
   ],
   "source": [
    "print(gfg.max())"
   ]
  },
  {
   "cell_type": "code",
   "execution_count": 4,
   "id": "95b6f5b9-0082-4a67-94d6-03dceacb7439",
   "metadata": {},
   "outputs": [
    {
     "name": "stdout",
     "output_type": "stream",
     "text": [
      "1\n"
     ]
    }
   ],
   "source": [
    "print(gfg.min())"
   ]
  },
  {
   "cell_type": "code",
   "execution_count": 7,
   "id": "b594cb03-1684-4327-8c79-0bdeb1cfa69b",
   "metadata": {},
   "outputs": [
    {
     "name": "stdout",
     "output_type": "stream",
     "text": [
      "(3, 3)\n"
     ]
    }
   ],
   "source": [
    "print(np.shape(gfg))"
   ]
  },
  {
   "cell_type": "markdown",
   "id": "c0b1722c-cf43-4df5-a3ec-6f19ad67ffc7",
   "metadata": {},
   "source": [
    "Syntax : matrix.take(index, axis)\n",
    "Return : Return matrix of selected indexes"
   ]
  },
  {
   "cell_type": "code",
   "execution_count": 8,
   "id": "85b0c3da-fe08-4cf4-88d7-895b43fa14a7",
   "metadata": {},
   "outputs": [
    {
     "name": "stdout",
     "output_type": "stream",
     "text": [
      "[[3]]\n"
     ]
    }
   ],
   "source": [
    "print(gfg.take(2))"
   ]
  },
  {
   "cell_type": "code",
   "execution_count": 10,
   "id": "14b4bfb7-f7ae-44ab-bfab-c47bcaa67bc7",
   "metadata": {},
   "outputs": [
    {
     "name": "stdout",
     "output_type": "stream",
     "text": [
      "[[1 4 7]]\n"
     ]
    }
   ],
   "source": [
    "print(gfg.take(0,1))\n",
    "##row =0 column = 1"
   ]
  },
  {
   "cell_type": "code",
   "execution_count": 11,
   "id": "18dbb331-68e4-4906-911a-029b3cd5701a",
   "metadata": {},
   "outputs": [
    {
     "name": "stdout",
     "output_type": "stream",
     "text": [
      "45\n"
     ]
    }
   ],
   "source": [
    "print(gfg.sum())"
   ]
  }
 ],
 "metadata": {
  "kernelspec": {
   "display_name": "Python 3 (ipykernel)",
   "language": "python",
   "name": "python3"
  },
  "language_info": {
   "codemirror_mode": {
    "name": "ipython",
    "version": 3
   },
   "file_extension": ".py",
   "mimetype": "text/x-python",
   "name": "python",
   "nbconvert_exporter": "python",
   "pygments_lexer": "ipython3",
   "version": "3.13.7"
  }
 },
 "nbformat": 4,
 "nbformat_minor": 5
}
