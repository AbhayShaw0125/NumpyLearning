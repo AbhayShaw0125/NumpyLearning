{
 "cells": [
  {
   "cell_type": "code",
   "execution_count": 1,
   "id": "8ae3d9e0-1204-4257-9ae8-9d427faeb832",
   "metadata": {},
   "outputs": [],
   "source": [
    "## Replace"
   ]
  },
  {
   "cell_type": "code",
   "execution_count": 2,
   "id": "71bcb872-b1ae-4e0c-ad64-489300288d8c",
   "metadata": {},
   "outputs": [],
   "source": [
    "import numpy as np"
   ]
  },
  {
   "cell_type": "code",
   "execution_count": 3,
   "id": "8fc57fd0-4537-4a06-8270-1b88d1a17c9d",
   "metadata": {},
   "outputs": [
    {
     "name": "stdout",
     "output_type": "stream",
     "text": [
      "[1 2 0 4 0 0]\n"
     ]
    }
   ],
   "source": [
    "ini_array1 = np.array([1, 2, -3, 4, -5, -6])\n",
    "result=np.where(ini_array1<-1,0,ini_array1)\n",
    "print(result)"
   ]
  },
  {
   "cell_type": "markdown",
   "id": "5604c3a9-7a37-4882-8394-2a7e635b4b77",
   "metadata": {},
   "source": [
    "Remove columns in Numpy array that contains non-numeric values"
   ]
  },
  {
   "cell_type": "code",
   "execution_count": 7,
   "id": "affdca0a-c690-4d59-8820-4a095ec42d0a",
   "metadata": {},
   "outputs": [
    {
     "name": "stdout",
     "output_type": "stream",
     "text": [
      "[[10.5 22.5]\n",
      " [41.  52.5]]\n"
     ]
    }
   ],
   "source": [
    "n_arr = np.array([[10.5, 22.5, np.nan],\n",
    "                  [41, 52.5, np.nan]])\n",
    "new_arr=n_arr[:, ~np.isnan(n_arr).any(axis=0)]\n",
    "print(new_arr)"
   ]
  }
 ],
 "metadata": {
  "kernelspec": {
   "display_name": "Python 3 (ipykernel)",
   "language": "python",
   "name": "python3"
  },
  "language_info": {
   "codemirror_mode": {
    "name": "ipython",
    "version": 3
   },
   "file_extension": ".py",
   "mimetype": "text/x-python",
   "name": "python",
   "nbconvert_exporter": "python",
   "pygments_lexer": "ipython3",
   "version": "3.13.7"
  }
 },
 "nbformat": 4,
 "nbformat_minor": 5
}
