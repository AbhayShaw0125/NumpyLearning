{
 "cells": [
  {
   "cell_type": "code",
   "execution_count": 2,
   "id": "f367da27-866d-44e2-9a39-a2b7300123d4",
   "metadata": {},
   "outputs": [],
   "source": [
    "import numpy as np"
   ]
  },
  {
   "cell_type": "code",
   "execution_count": 5,
   "id": "05b9b77c-dc4f-4210-9ef0-30a8e16d39df",
   "metadata": {},
   "outputs": [
    {
     "name": "stdout",
     "output_type": "stream",
     "text": [
      "[ 5 10 10 10  5]\n"
     ]
    }
   ],
   "source": [
    "arr=np.array([1,95,87,64,55])\n",
    "new_arr=np.where(arr>55,10,5)\n",
    "print(new_arr)\n",
    "\n",
    "## so here (arr>55-> is the condition,if it is true then add x in the place,if false then add y in place)"
   ]
  },
  {
   "cell_type": "markdown",
   "id": "fd2ce6c7-da40-4286-86ce-39a87ca8f463",
   "metadata": {},
   "source": [
    "### Conditional Selection of Elements from Two Arrays"
   ]
  },
  {
   "cell_type": "code",
   "execution_count": 6,
   "id": "26abbe71-2d35-45af-b731-1e2c3a3f8b0d",
   "metadata": {},
   "outputs": [
    {
     "name": "stdout",
     "output_type": "stream",
     "text": [
      "[100  15  20  25  30]\n"
     ]
    }
   ],
   "source": [
    "arr1 = np.array([10, 15, 20, 25, 30])\n",
    "arr2 = np.array([100, 150, 200, 250, 300])\n",
    "result = np.where(arr>25,arr1,arr2)\n",
    "print(result)"
   ]
  }
 ],
 "metadata": {
  "kernelspec": {
   "display_name": "Python 3 (ipykernel)",
   "language": "python",
   "name": "python3"
  },
  "language_info": {
   "codemirror_mode": {
    "name": "ipython",
    "version": 3
   },
   "file_extension": ".py",
   "mimetype": "text/x-python",
   "name": "python",
   "nbconvert_exporter": "python",
   "pygments_lexer": "ipython3",
   "version": "3.13.7"
  }
 },
 "nbformat": 4,
 "nbformat_minor": 5
}
