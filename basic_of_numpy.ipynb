{
 "cells": [
  {
   "cell_type": "code",
   "execution_count": 1,
   "id": "8b7e9e63-f66c-4994-bcbe-4e2ea8a239d3",
   "metadata": {},
   "outputs": [],
   "source": [
    "#####Basic Numpy Array "
   ]
  },
  {
   "cell_type": "code",
   "execution_count": 2,
   "id": "556c29f6-b2df-40b3-9c88-6bec135fc97b",
   "metadata": {},
   "outputs": [],
   "source": [
    "###Create an empty numpy array###"
   ]
  },
  {
   "cell_type": "code",
   "execution_count": null,
   "id": "887de8c7-a542-49f7-9dea-116a11bcacf8",
   "metadata": {},
   "outputs": [],
   "source": []
  },
  {
   "cell_type": "code",
   "execution_count": 5,
   "id": "95b894ee-240a-4c0f-b342-eafc225162e0",
   "metadata": {},
   "outputs": [
    {
     "name": "stdout",
     "output_type": "stream",
     "text": [
      "[[0. 0. 0.]\n",
      " [0. 0. 0.]\n",
      " [0. 0. 0.]]\n"
     ]
    }
   ],
   "source": [
    "import numpy as np\n",
    "\n",
    "#create empty array\n",
    "empty_np_array = np.empty((3,3))\n",
    "print(empty_np_array)"
   ]
  },
  {
   "cell_type": "code",
   "execution_count": 6,
   "id": "f4161118-cb8c-427e-9fe2-732fc0f357a1",
   "metadata": {},
   "outputs": [
    {
     "name": "stdout",
     "output_type": "stream",
     "text": [
      "[[3 3 3 3 3]\n",
      " [3 3 3 3 3]\n",
      " [3 3 3 3 3]\n",
      " [3 3 3 3 3]\n",
      " [3 3 3 3 3]]\n"
     ]
    }
   ],
   "source": [
    "###create full array\n",
    "full_array = np.full((5,5),3)\n",
    "print(full_array)"
   ]
  },
  {
   "cell_type": "code",
   "execution_count": 13,
   "id": "a5eaedfa-8f7b-4cdc-baf2-5cd064e69f1d",
   "metadata": {},
   "outputs": [
    {
     "name": "stdout",
     "output_type": "stream",
     "text": [
      "[1. 1. 1.]\n",
      "[[1. 1. 1. 1.]\n",
      " [1. 1. 1. 1.]\n",
      " [1. 1. 1. 1.]]\n",
      "[1 1 1 1 1 1]\n"
     ]
    }
   ],
   "source": [
    "###create numpy array with all ones\n",
    "array = np.ones(3)\n",
    "print(array)\n",
    "\n",
    "###\n",
    "array_with_shape = np.ones((3,4))\n",
    "print(array_with_shape)\n",
    "\n",
    "\n",
    "###array of ones with specific data type\n",
    "array_ones = np.ones(6, dtype=int)\n",
    "print(array_ones)"
   ]
  },
  {
   "cell_type": "code",
   "execution_count": 16,
   "id": "ecf707b8-e82e-4742-9f3e-b33591cdf403",
   "metadata": {},
   "outputs": [
    {
     "name": "stdout",
     "output_type": "stream",
     "text": [
      "[[[1. 1. 1. 1.]\n",
      "  [1. 1. 1. 1.]\n",
      "  [1. 1. 1. 1.]]\n",
      "\n",
      " [[1. 1. 1. 1.]\n",
      "  [1. 1. 1. 1.]\n",
      "  [1. 1. 1. 1.]]\n",
      "\n",
      " [[1. 1. 1. 1.]\n",
      "  [1. 1. 1. 1.]\n",
      "  [1. 1. 1. 1.]]]\n"
     ]
    }
   ],
   "source": [
    "###multi-d array of ones\n",
    "ones_array_3d = np.ones((3, 3, 4))\n",
    "print(ones_array_3d)"
   ]
  },
  {
   "cell_type": "code",
   "execution_count": null,
   "id": "83be0c8f-3600-429f-845d-e398f5cbf8af",
   "metadata": {},
   "outputs": [],
   "source": []
  }
 ],
 "metadata": {
  "kernelspec": {
   "display_name": "Python 3 (ipykernel)",
   "language": "python",
   "name": "python3"
  },
  "language_info": {
   "codemirror_mode": {
    "name": "ipython",
    "version": 3
   },
   "file_extension": ".py",
   "mimetype": "text/x-python",
   "name": "python",
   "nbconvert_exporter": "python",
   "pygments_lexer": "ipython3",
   "version": "3.13.7"
  }
 },
 "nbformat": 4,
 "nbformat_minor": 5
}
